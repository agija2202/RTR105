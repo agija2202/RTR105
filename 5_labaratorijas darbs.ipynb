{
 "cells": [
  {
   "cell_type": "code",
   "execution_count": null,
   "metadata": {},
   "outputs": [],
   "source": [
    "#5.Labaratorijas darbs\n",
    "#Pirmkārt no \"numpy\" importējam \"random,sinh\" un to \"matplotlib\" importēt \"pyplot.as.plt\"\n",
    "from numpy import random, sinh\n",
    "from matplotlib import pyplot as plt\n",
    "#Otrais solis ir mainīgo definēšana\n",
    "N = 10000\n",
    "\n",
    "a = 0\n",
    "b = 5\n",
    "c = 1\n",
    "\n",
    "x = random.uniform(a, b, N)\n",
    "y = random.uniform(a, c, N)\n",
    "\n",
    "#Trešajā solī aprakstām koda daļu , kas vizualizē grafiski, to , kas izdarīts kodā \n",
    "\n",
    "plt.grid()\n",
    "plt.xlabel('x')\n",
    "plt.ylabel('y')\n",
    "\n",
    "plt.title('Funkcija sinh(x) un tās integrālis')\n",
    "plt.plot(x, y, 'ko')\n",
    "#Ceturtais solis ir koda matemātiskā daļa , kur ievietojam savu formulu sinh(x) integrāli , kas attelos mums visu grafiski \n",
    "N1 = 1\n",
    "\n",
    "for i in range(N):\n",
    "    if y[i] < (sinh(x[i]*x[i] ))/ 2:\n",
    "        plt.plot(x[i], y[i], 'go')\n",
    "        N1 = N1 + 1\n",
    "    else:\n",
    "        plt.plot(x[i], y[i], 'ro')\n",
    "plt.show()\n",
    "#Laukuma aprēkināšana un iegūtā integrāļa attēlošana grafiski ar gadījuma skaitļiem\n",
    "S = (b - a) * (c -a)\n",
    "jaunaS = float (S * N1/ N)\n",
    "print(\"Laukuma skaitliskā vertība:\",)\n",
    "print(jaunaS)\n"
   ]
  },
  {
   "cell_type": "code",
   "execution_count": null,
   "metadata": {},
   "outputs": [],
   "source": []
  }
 ],
 "metadata": {
  "kernelspec": {
   "display_name": "Python 3",
   "language": "python",
   "name": "python3"
  },
  "language_info": {
   "codemirror_mode": {
    "name": "ipython",
    "version": 3
   },
   "file_extension": ".py",
   "mimetype": "text/x-python",
   "name": "python",
   "nbconvert_exporter": "python",
   "pygments_lexer": "ipython3",
   "version": "3.6.7"
  }
 },
 "nbformat": 4,
 "nbformat_minor": 2
}
