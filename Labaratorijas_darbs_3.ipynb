{
 "cells": [
  {
   "cell_type": "code",
   "execution_count": 2,
   "metadata": {},
   "outputs": [
    {
     "data": {
      "text/plain": [
       "<Figure size 640x480 with 1 Axes>"
      ]
     },
     "metadata": {},
     "output_type": "display_data"
    },
    {
     "name": "stdout",
     "output_type": "stream",
     "text": [
      "Dotajā intervālā sakne(s) ir!\n",
      "-1 1 0.0\n",
      "-1 0.0 -0.5\n",
      "-1 -0.5 -0.75\n",
      "-1 -0.75 -0.875\n",
      "-1 -0.875 -0.9375\n",
      "-1 -0.9375 -0.96875\n",
      "-1 -0.96875 -0.984375\n",
      "-1 -0.984375 -0.9921875\n",
      "-1 -0.9921875 -0.99609375\n",
      "-1 -0.99609375 -0.998046875\n",
      "-1 -0.998046875 -0.9990234375\n",
      "-1 -0.9990234375 -0.99951171875\n",
      "-1 -0.99951171875 -0.999755859375\n",
      "-1 -0.999755859375 -0.9998779296875\n",
      "-1 -0.9998779296875 -0.99993896484375\n",
      "Sakne ir:  -0.99993896484375\n",
      "Sakne ir:  -1.1751070136650734\n",
      "Interāciju skaits k =  15\n"
     ]
    }
   ],
   "source": [
    "#3.labaratorijas darbs\n",
    "#Ielādējam savu repozitāriju terminālā un islēdzam  idle & vidi kur sākam veidot funkciju \n",
    "#Aptuveni novērtējot funkcijas saknes vertību lietojo \"peli\" iegūstam x =\n",
    "\n",
    "from math import sinh,fabs\n",
    "\n",
    "from time import sleep\n",
    "#sys importē iebūvēto moduli (bibliotēku), kas nosaukts sys.\n",
    "\n",
    "\n",
    "def f(x):\n",
    "    return sinh(x)\n",
    "\n",
    "k = 0\n",
    "a = -1\n",
    "b = 1\n",
    "\n",
    "#Ierakstām dotos un to vērtības\n",
    "\n",
    "from numpy import *\n",
    "from matplotlib import pyplot as plt\n",
    "x = linspace(0 , 4 , 70)\n",
    "y = sinh(x)\n",
    "\n",
    "#Ierādām kādās robežas ir noteiktais grafiks ka arī pierakstām grafiku kurš tiks attēlots\n",
    "\n",
    "plt.grid()\n",
    "plt.xlabel('x')\n",
    "plt.ylabel('f(x)')\n",
    "plt.title('Funkcija $sinh(x)$')\n",
    "plt.plot(x, y, color = '#FF0000',linewidth = 5.0)\n",
    "plt.show()\n",
    "\n",
    "#ar plt. ieviešam funkcijas attelošanos ar plt.plot ierakstām pieškirto grafika krāsu un pieprasām visu attēlot\n",
    "funa = f(a)\n",
    "fnub = f(b)\n",
    "\n",
    "\n",
    "if (funa*fnub >0.0):\n",
    "    print('Dotajā intervālā [%s,%s] sakņu nav'%(a,b))\n",
    "    sleep(1);exit()\n",
    "else:\n",
    "    print('Dotajā intervālā sakne(s) ir!')\n",
    "deltax = 0.0001\n",
    "\n",
    "#Pieškiram salidzinājumu a un b ka ja sareizinot a un b tiem ir jābut lielākiem par 0 vertību un tad norādām kurā intervalā skanes ir bet kura nav \n",
    "while(fabs(b-a) > deltax):\n",
    "    k = k+1\n",
    "    x=(a+b)/2.;funx=f(x)\n",
    "    print(a,b,x)\n",
    "    if(funa*fnub < 0.):\n",
    "        b = x\n",
    "    else:\n",
    "        a = x\n",
    "\n",
    "print('Sakne ir: ',x)\n",
    "print('Sakne ir: ',f(x))\n",
    "print('Interāciju skaits k = ',k)\n",
    "\n",
    "#Pieprasām izvadīt skaitļus kuri norāda saknes un interāciju skaitu \n"
   ]
  },
  {
   "cell_type": "code",
   "execution_count": null,
   "metadata": {},
   "outputs": [],
   "source": []
  }
 ],
 "metadata": {
  "kernelspec": {
   "display_name": "Python 3",
   "language": "python",
   "name": "python3"
  },
  "language_info": {
   "codemirror_mode": {
    "name": "ipython",
    "version": 3
   },
   "file_extension": ".py",
   "mimetype": "text/x-python",
   "name": "python",
   "nbconvert_exporter": "python",
   "pygments_lexer": "ipython3",
   "version": "3.6.7"
  }
 },
 "nbformat": 4,
 "nbformat_minor": 2
}
